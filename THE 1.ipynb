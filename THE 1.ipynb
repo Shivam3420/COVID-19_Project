{
 "cells": [
  {
   "cell_type": "code",
   "execution_count": 6,
   "metadata": {},
   "outputs": [
    {
     "name": "stdout",
     "output_type": "stream",
     "text": [
      "Combined List\n",
      "[['Maharashtra' '186626']\n",
      " ['Tamil Nadu' '98392']\n",
      " ['Delhi' '92175']\n",
      " ['Gujarat' '33913']\n",
      " ['Uttar Pradesh' '24825']]\n",
      "\n",
      "Touple\n",
      "(('Maharashtra', 186626), ('Tamil Nadu', 98392), ('Delhi', 92175), ('Gujarat', 33913), ('Uttar Pradesh', 24825))\n",
      "\n",
      "Dictionary : \n",
      "{'Maharashtra': 186626, 'Tamil Nadu': 98392, 'Delhi': 92175, 'Gujarat': 33913, 'Uttar Pradesh': 24825}\n"
     ]
    }
   ],
   "source": [
    "import numpy as np\n",
    "\n",
    "States = [\"Maharashtra\",\"Tamil Nadu\",\"Delhi\",\"Gujarat\",\"Uttar Pradesh\"]\n",
    "Infections = [186626,98392,92175,33913,24825]\n",
    "\n",
    "print(\"Combined List\")\n",
    "print(np.column_stack((States, Infections)))\n",
    "\n",
    "print('\\nTouple')\n",
    "print(tuple(zip(States, Infections)))\n",
    "\n",
    "res = {States[i]: Infections[i] for i in range(len(States))}\n",
    "print(\"\\nDictionary : \") \n",
    "print(str(res))"
   ]
  },
  {
   "cell_type": "code",
   "execution_count": null,
   "metadata": {},
   "outputs": [],
   "source": []
  }
 ],
 "metadata": {
  "kernelspec": {
   "display_name": "Python 3",
   "language": "python",
   "name": "python3"
  },
  "language_info": {
   "codemirror_mode": {
    "name": "ipython",
    "version": 3
   },
   "file_extension": ".py",
   "mimetype": "text/x-python",
   "name": "python",
   "nbconvert_exporter": "python",
   "pygments_lexer": "ipython3",
   "version": "3.7.6"
  }
 },
 "nbformat": 4,
 "nbformat_minor": 4
}
