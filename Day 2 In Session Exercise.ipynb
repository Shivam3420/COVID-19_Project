{
 "cells": [
  {
   "cell_type": "code",
   "execution_count": 12,
   "metadata": {},
   "outputs": [
    {
     "name": "stdout",
     "output_type": "stream",
     "text": [
      "Infection Fatality Rate in Mumbai =  4.196316143957364\n",
      "Crude Mortality Rate in Mumbai =  0.03115217391304348\n"
     ]
    }
   ],
   "source": [
    "T = 136596      #Infected_Total_Till_Date\n",
    "R = 67890       #Recovered_Till_Date\n",
    "D = 5732        #Deaths_Till_Date\n",
    "M = 18400000    #Mumbai_Population = 1.84C\n",
    "\n",
    "def InfectionFatalityRate():\n",
    "    IFR = (D/T)*100\n",
    "    print(\"Infection Fatality Rate in Mumbai = \",IFR)\n",
    "\n",
    "def CrudeMortalityRate():\n",
    "    CMR = (D/M)*100\n",
    "    print(\"Crude Mortality Rate in Mumbai = \",CMR)\n",
    "    \n",
    "InfectionFatalityRate()\n",
    "CrudeMortalityRate()"
   ]
  }
 ],
 "metadata": {
  "kernelspec": {
   "display_name": "Python 3",
   "language": "python",
   "name": "python3"
  },
  "language_info": {
   "codemirror_mode": {
    "name": "ipython",
    "version": 3
   },
   "file_extension": ".py",
   "mimetype": "text/x-python",
   "name": "python",
   "nbconvert_exporter": "python",
   "pygments_lexer": "ipython3",
   "version": "3.7.6"
  }
 },
 "nbformat": 4,
 "nbformat_minor": 4
}
