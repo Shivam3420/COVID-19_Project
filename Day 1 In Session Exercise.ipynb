{
 "cells": [
  {
   "cell_type": "code",
   "execution_count": 1,
   "metadata": {},
   "outputs": [
    {
     "name": "stdout",
     "output_type": "stream",
     "text": [
      "Percentage Change in Infected on 10th June 2020 =  0.9724473257698543\n",
      "Percentage Change in Infected on 11th June 2020 =  0.16051364365971107\n",
      "Percentage Change in Infected on 12th June 2020 =  1.0416666666666665\n"
     ]
    }
   ],
   "source": [
    "T = 1234     #(T = Infected_total_till_date)\n",
    "J10 = 12     #(J10 = Infected_on_10June2020)\n",
    "J11 = 2      #(J11 = Infected_on_11June2020)\n",
    "J12 = 13     #(J12 = Infected_on_12June2020)\n",
    "\n",
    "J10P = ((J10/T)*100)            #(J10P = Infected_%_change_on_10June2020)\n",
    "J11P = ((J11/(T+J10))*100)      #(J11P = Infected_%_change_on_11June2020)\n",
    "J12P = ((J12/(T+J10+J11))*100)  #(J12P = Infected_%_change_on_12June2020)\n",
    "\n",
    "print(\"Percentage Change in Infected on 10th June 2020 = \",J10P)\n",
    "print(\"Percentage Change in Infected on 11th June 2020 = \",J11P)\n",
    "print(\"Percentage Change in Infected on 12th June 2020 = \",J12P)"
   ]
  },
  {
   "cell_type": "code",
   "execution_count": null,
   "metadata": {},
   "outputs": [],
   "source": []
  }
 ],
 "metadata": {
  "kernelspec": {
   "display_name": "Python 3",
   "language": "python",
   "name": "python3"
  },
  "language_info": {
   "codemirror_mode": {
    "name": "ipython",
    "version": 3
   },
   "file_extension": ".py",
   "mimetype": "text/x-python",
   "name": "python",
   "nbconvert_exporter": "python",
   "pygments_lexer": "ipython3",
   "version": "3.7.6"
  }
 },
 "nbformat": 4,
 "nbformat_minor": 4
}
