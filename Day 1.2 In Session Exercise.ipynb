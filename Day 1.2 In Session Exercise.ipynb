{
 "cells": [
  {
   "cell_type": "code",
   "execution_count": 7,
   "metadata": {},
   "outputs": [
    {
     "name": "stdout",
     "output_type": "stream",
     "text": [
      "['Delhi', 'Maharashtra', 'Gujarat', 'Madhya Pradesh', 'Ladakh']\n",
      "[104864, 223724, 38333, 16036, 1041]\n",
      "(78199, 123192, 27289, 11987, 836)\n",
      "{'Delhi': 104864, 'Maharashtra': 223724, 'Gujarat': 38333, 'Madhya Pradesh': 16036, 'Ladakh': 1041}\n"
     ]
    }
   ],
   "source": [
    "L1 = [\"Delhi\",\"Maharashtra\",\"Gujarat\",\"Madhya Pradesh\",\"Ladakh\"]\n",
    "L2 = [104864,223724,38333,16036,1041]\n",
    "T = (78199,123192,27289,11987,836)\n",
    "D = {\"Delhi\":104864,\"Maharashtra\":223724,\"Gujarat\":38333,\"Madhya Pradesh\":16036,\"Ladakh\":1041}\n",
    "print(L1)\n",
    "print(L2)\n",
    "print(T)\n",
    "print(D)"
   ]
  }
 ],
 "metadata": {
  "kernelspec": {
   "display_name": "Python 3",
   "language": "python",
   "name": "python3"
  },
  "language_info": {
   "codemirror_mode": {
    "name": "ipython",
    "version": 3
   },
   "file_extension": ".py",
   "mimetype": "text/x-python",
   "name": "python",
   "nbconvert_exporter": "python",
   "pygments_lexer": "ipython3",
   "version": "3.7.6"
  }
 },
 "nbformat": 4,
 "nbformat_minor": 4
}
